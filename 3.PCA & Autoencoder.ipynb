{
 "cells": [
  {
   "cell_type": "code",
   "execution_count": 31,
   "metadata": {},
   "outputs": [
    {
     "name": "stderr",
     "output_type": "stream",
     "text": [
      "//anaconda3/lib/python3.7/importlib/_bootstrap.py:219: RuntimeWarning: compiletime version 3.6 of module 'tensorflow.python.framework.fast_tensor_util' does not match runtime version 3.7\n",
      "  return f(*args, **kwds)\n",
      "Using TensorFlow backend.\n"
     ]
    }
   ],
   "source": [
    "import pandas as pd\n",
    "import numpy as np\n",
    "import matplotlib.pyplot as plt\n",
    "import seaborn as sns\n",
    "import math\n",
    "%matplotlib inline\n",
    "import tensorflow as tf\n",
    "# import seaborn as sns\n",
    "from sklearn.model_selection import train_test_split\n",
    "from keras.models import Model, load_model\n",
    "from keras.layers import Input, Dense\n",
    "from keras.callbacks import ModelCheckpoint\n",
    "from keras import regularizers\n",
    "from sklearn.preprocessing import StandardScaler\n",
    "from sklearn.metrics import roc_curve, auc, precision_recall_curve"
   ]
  },
  {
   "cell_type": "code",
   "execution_count": 3,
   "metadata": {},
   "outputs": [],
   "source": [
    "cdata = pd.read_csv(\"NY clean.csv\")"
   ]
  },
  {
   "cell_type": "code",
   "execution_count": 4,
   "metadata": {},
   "outputs": [
    {
     "data": {
      "text/plain": [
       "(1070994, 79)"
      ]
     },
     "execution_count": 4,
     "metadata": {},
     "output_type": "execute_result"
    }
   ],
   "source": [
    "cdata.shape"
   ]
  },
  {
   "cell_type": "code",
   "execution_count": 5,
   "metadata": {},
   "outputs": [
    {
     "data": {
      "text/html": [
       "<div>\n",
       "<style scoped>\n",
       "    .dataframe tbody tr th:only-of-type {\n",
       "        vertical-align: middle;\n",
       "    }\n",
       "\n",
       "    .dataframe tbody tr th {\n",
       "        vertical-align: top;\n",
       "    }\n",
       "\n",
       "    .dataframe thead th {\n",
       "        text-align: right;\n",
       "    }\n",
       "</style>\n",
       "<table border=\"1\" class=\"dataframe\">\n",
       "  <thead>\n",
       "    <tr style=\"text-align: right;\">\n",
       "      <th></th>\n",
       "      <th>0</th>\n",
       "      <th>1</th>\n",
       "      <th>2</th>\n",
       "      <th>3</th>\n",
       "      <th>4</th>\n",
       "    </tr>\n",
       "  </thead>\n",
       "  <tbody>\n",
       "    <tr>\n",
       "      <th>Unnamed: 0</th>\n",
       "      <td>0.000000</td>\n",
       "      <td>1.000000</td>\n",
       "      <td>2.000000</td>\n",
       "      <td>3.000000</td>\n",
       "      <td>4.000000</td>\n",
       "    </tr>\n",
       "    <tr>\n",
       "      <th>STORIES</th>\n",
       "      <td>-0.177236</td>\n",
       "      <td>-0.238036</td>\n",
       "      <td>-0.238036</td>\n",
       "      <td>-0.359637</td>\n",
       "      <td>-0.481238</td>\n",
       "    </tr>\n",
       "    <tr>\n",
       "      <th>FULLVAL</th>\n",
       "      <td>1.769927</td>\n",
       "      <td>16.640395</td>\n",
       "      <td>8.953812</td>\n",
       "      <td>3.305277</td>\n",
       "      <td>23.411461</td>\n",
       "    </tr>\n",
       "    <tr>\n",
       "      <th>AVLAND</th>\n",
       "      <td>1.020213</td>\n",
       "      <td>3.505539</td>\n",
       "      <td>9.592535</td>\n",
       "      <td>3.738434</td>\n",
       "      <td>29.811617</td>\n",
       "    </tr>\n",
       "    <tr>\n",
       "      <th>AVTOT</th>\n",
       "      <td>1.366038</td>\n",
       "      <td>12.639995</td>\n",
       "      <td>6.812458</td>\n",
       "      <td>2.530054</td>\n",
       "      <td>17.773438</td>\n",
       "    </tr>\n",
       "    <tr>\n",
       "      <th>...</th>\n",
       "      <td>...</td>\n",
       "      <td>...</td>\n",
       "      <td>...</td>\n",
       "      <td>...</td>\n",
       "      <td>...</td>\n",
       "    </tr>\n",
       "    <tr>\n",
       "      <th>VT3-d-1</th>\n",
       "      <td>0.451410</td>\n",
       "      <td>1.458999</td>\n",
       "      <td>-0.008512</td>\n",
       "      <td>0.055411</td>\n",
       "      <td>10.333575</td>\n",
       "    </tr>\n",
       "    <tr>\n",
       "      <th>VT3-d-2</th>\n",
       "      <td>0.498693</td>\n",
       "      <td>1.660249</td>\n",
       "      <td>-0.031507</td>\n",
       "      <td>0.042183</td>\n",
       "      <td>11.890914</td>\n",
       "    </tr>\n",
       "    <tr>\n",
       "      <th>VT3-d-3</th>\n",
       "      <td>0.042385</td>\n",
       "      <td>0.158338</td>\n",
       "      <td>-0.010543</td>\n",
       "      <td>-0.003187</td>\n",
       "      <td>1.179621</td>\n",
       "    </tr>\n",
       "    <tr>\n",
       "      <th>VT3-d-4</th>\n",
       "      <td>0.469796</td>\n",
       "      <td>1.106279</td>\n",
       "      <td>-0.141426</td>\n",
       "      <td>-0.057566</td>\n",
       "      <td>0.478405</td>\n",
       "    </tr>\n",
       "    <tr>\n",
       "      <th>VT3-d-5</th>\n",
       "      <td>0.416346</td>\n",
       "      <td>1.342993</td>\n",
       "      <td>-0.006629</td>\n",
       "      <td>0.052158</td>\n",
       "      <td>9.504655</td>\n",
       "    </tr>\n",
       "  </tbody>\n",
       "</table>\n",
       "<p>79 rows × 5 columns</p>\n",
       "</div>"
      ],
      "text/plain": [
       "                   0          1         2         3          4\n",
       "Unnamed: 0  0.000000   1.000000  2.000000  3.000000   4.000000\n",
       "STORIES    -0.177236  -0.238036 -0.238036 -0.359637  -0.481238\n",
       "FULLVAL     1.769927  16.640395  8.953812  3.305277  23.411461\n",
       "AVLAND      1.020213   3.505539  9.592535  3.738434  29.811617\n",
       "AVTOT       1.366038  12.639995  6.812458  2.530054  17.773438\n",
       "...              ...        ...       ...       ...        ...\n",
       "VT3-d-1     0.451410   1.458999 -0.008512  0.055411  10.333575\n",
       "VT3-d-2     0.498693   1.660249 -0.031507  0.042183  11.890914\n",
       "VT3-d-3     0.042385   0.158338 -0.010543 -0.003187   1.179621\n",
       "VT3-d-4     0.469796   1.106279 -0.141426 -0.057566   0.478405\n",
       "VT3-d-5     0.416346   1.342993 -0.006629  0.052158   9.504655\n",
       "\n",
       "[79 rows x 5 columns]"
      ]
     },
     "execution_count": 5,
     "metadata": {},
     "output_type": "execute_result"
    }
   ],
   "source": [
    "cdata.head(5).transpose()"
   ]
  },
  {
   "cell_type": "code",
   "execution_count": null,
   "metadata": {},
   "outputs": [],
   "source": [
    "#prepare the data"
   ]
  },
  {
   "cell_type": "code",
   "execution_count": 6,
   "metadata": {},
   "outputs": [],
   "source": [
    "del cdata['Unnamed: 0']"
   ]
  },
  {
   "cell_type": "code",
   "execution_count": 7,
   "metadata": {},
   "outputs": [],
   "source": [
    "cdata_45 = cdata.loc[:,\"lotarea-d-1\":].values"
   ]
  },
  {
   "cell_type": "code",
   "execution_count": 8,
   "metadata": {},
   "outputs": [],
   "source": [
    "# pca "
   ]
  },
  {
   "cell_type": "code",
   "execution_count": 14,
   "metadata": {},
   "outputs": [],
   "source": [
    "from sklearn.decomposition import PCA\n",
    "pca_cdata_model1 = PCA(0.85)\n",
    "pca_cdata1 = pca_cdata_model1.fit_transform(cdata_45)\n",
    "pca_cdata = pd.DataFrame(pca_cdata1)"
   ]
  },
  {
   "cell_type": "code",
   "execution_count": 15,
   "metadata": {},
   "outputs": [
    {
     "data": {
      "text/plain": [
       "(1070994, 7)"
      ]
     },
     "execution_count": 15,
     "metadata": {},
     "output_type": "execute_result"
    }
   ],
   "source": [
    "pca_cdata.shape"
   ]
  },
  {
   "cell_type": "code",
   "execution_count": 11,
   "metadata": {},
   "outputs": [
    {
     "data": {
      "text/html": [
       "<div>\n",
       "<style scoped>\n",
       "    .dataframe tbody tr th:only-of-type {\n",
       "        vertical-align: middle;\n",
       "    }\n",
       "\n",
       "    .dataframe tbody tr th {\n",
       "        vertical-align: top;\n",
       "    }\n",
       "\n",
       "    .dataframe thead th {\n",
       "        text-align: right;\n",
       "    }\n",
       "</style>\n",
       "<table border=\"1\" class=\"dataframe\">\n",
       "  <thead>\n",
       "    <tr style=\"text-align: right;\">\n",
       "      <th></th>\n",
       "      <th>0</th>\n",
       "      <th>1</th>\n",
       "      <th>2</th>\n",
       "      <th>3</th>\n",
       "      <th>4</th>\n",
       "      <th>5</th>\n",
       "      <th>6</th>\n",
       "    </tr>\n",
       "  </thead>\n",
       "  <tbody>\n",
       "    <tr>\n",
       "      <th>0</th>\n",
       "      <td>2.961066</td>\n",
       "      <td>-0.966778</td>\n",
       "      <td>-0.144025</td>\n",
       "      <td>-1.069115</td>\n",
       "      <td>3.949256</td>\n",
       "      <td>0.149773</td>\n",
       "      <td>-0.024679</td>\n",
       "    </tr>\n",
       "    <tr>\n",
       "      <th>1</th>\n",
       "      <td>22.082460</td>\n",
       "      <td>88.952050</td>\n",
       "      <td>0.771002</td>\n",
       "      <td>-12.961086</td>\n",
       "      <td>-5.031805</td>\n",
       "      <td>52.759906</td>\n",
       "      <td>-40.767609</td>\n",
       "    </tr>\n",
       "    <tr>\n",
       "      <th>2</th>\n",
       "      <td>-0.045503</td>\n",
       "      <td>0.121442</td>\n",
       "      <td>3.984966</td>\n",
       "      <td>0.286080</td>\n",
       "      <td>2.341590</td>\n",
       "      <td>0.601933</td>\n",
       "      <td>0.319356</td>\n",
       "    </tr>\n",
       "    <tr>\n",
       "      <th>3</th>\n",
       "      <td>0.274976</td>\n",
       "      <td>-0.346367</td>\n",
       "      <td>0.239236</td>\n",
       "      <td>0.094751</td>\n",
       "      <td>2.826759</td>\n",
       "      <td>0.477089</td>\n",
       "      <td>0.424602</td>\n",
       "    </tr>\n",
       "    <tr>\n",
       "      <th>4</th>\n",
       "      <td>37.755544</td>\n",
       "      <td>-5.516241</td>\n",
       "      <td>-0.082214</td>\n",
       "      <td>6.282805</td>\n",
       "      <td>4.213788</td>\n",
       "      <td>-5.911139</td>\n",
       "      <td>-12.896729</td>\n",
       "    </tr>\n",
       "    <tr>\n",
       "      <th>5</th>\n",
       "      <td>3.482633</td>\n",
       "      <td>-0.422903</td>\n",
       "      <td>-0.231386</td>\n",
       "      <td>0.939326</td>\n",
       "      <td>0.195036</td>\n",
       "      <td>-0.682766</td>\n",
       "      <td>-1.239635</td>\n",
       "    </tr>\n",
       "    <tr>\n",
       "      <th>6</th>\n",
       "      <td>19.388915</td>\n",
       "      <td>-3.464164</td>\n",
       "      <td>-0.277231</td>\n",
       "      <td>3.498930</td>\n",
       "      <td>1.111200</td>\n",
       "      <td>-3.444969</td>\n",
       "      <td>-6.896603</td>\n",
       "    </tr>\n",
       "    <tr>\n",
       "      <th>7</th>\n",
       "      <td>1.381727</td>\n",
       "      <td>0.841660</td>\n",
       "      <td>0.061423</td>\n",
       "      <td>-0.400549</td>\n",
       "      <td>0.324203</td>\n",
       "      <td>0.407827</td>\n",
       "      <td>-0.746156</td>\n",
       "    </tr>\n",
       "    <tr>\n",
       "      <th>8</th>\n",
       "      <td>-0.230427</td>\n",
       "      <td>-0.402599</td>\n",
       "      <td>3.992211</td>\n",
       "      <td>0.069870</td>\n",
       "      <td>1.450999</td>\n",
       "      <td>0.254829</td>\n",
       "      <td>0.323462</td>\n",
       "    </tr>\n",
       "    <tr>\n",
       "      <th>9</th>\n",
       "      <td>-0.215400</td>\n",
       "      <td>-0.374251</td>\n",
       "      <td>3.992308</td>\n",
       "      <td>0.043130</td>\n",
       "      <td>1.449014</td>\n",
       "      <td>0.271268</td>\n",
       "      <td>0.312997</td>\n",
       "    </tr>\n",
       "  </tbody>\n",
       "</table>\n",
       "</div>"
      ],
      "text/plain": [
       "           0          1         2          3         4          5          6\n",
       "0   2.961066  -0.966778 -0.144025  -1.069115  3.949256   0.149773  -0.024679\n",
       "1  22.082460  88.952050  0.771002 -12.961086 -5.031805  52.759906 -40.767609\n",
       "2  -0.045503   0.121442  3.984966   0.286080  2.341590   0.601933   0.319356\n",
       "3   0.274976  -0.346367  0.239236   0.094751  2.826759   0.477089   0.424602\n",
       "4  37.755544  -5.516241 -0.082214   6.282805  4.213788  -5.911139 -12.896729\n",
       "5   3.482633  -0.422903 -0.231386   0.939326  0.195036  -0.682766  -1.239635\n",
       "6  19.388915  -3.464164 -0.277231   3.498930  1.111200  -3.444969  -6.896603\n",
       "7   1.381727   0.841660  0.061423  -0.400549  0.324203   0.407827  -0.746156\n",
       "8  -0.230427  -0.402599  3.992211   0.069870  1.450999   0.254829   0.323462\n",
       "9  -0.215400  -0.374251  3.992308   0.043130  1.449014   0.271268   0.312997"
      ]
     },
     "execution_count": 11,
     "metadata": {},
     "output_type": "execute_result"
    }
   ],
   "source": [
    "pca_cdata.head(10)"
   ]
  },
  {
   "cell_type": "code",
   "execution_count": null,
   "metadata": {},
   "outputs": [],
   "source": [
    "# z-scale after pca & calculating zscore"
   ]
  },
  {
   "cell_type": "code",
   "execution_count": 18,
   "metadata": {},
   "outputs": [],
   "source": [
    "pca_cdata = StandardScaler().fit_transform(pca_cdata)\n",
    "normalised_pca_cdata = pd.DataFrame(pca_cdata)\n",
    "s1_list = []\n",
    "for row in normalised_pca_cdata.values:\n",
    "    s1 =math.sqrt(sum([i*i for i in row]))\n",
    "    s1_list.append(s1)\n",
    "normalised_pca_cdata['s1'] = s1_list \n",
    "# def square(x): return lambda : x*x\n",
    "# listOfLambdas = [square(i) for i in ]\n",
    "# normalised_pca_cdata['s1'] = np.sqrt(x in normalised_pca_cdata.iterrows lambda x : x**2)\n",
    "\n"
   ]
  },
  {
   "cell_type": "code",
   "execution_count": 19,
   "metadata": {},
   "outputs": [
    {
     "data": {
      "text/html": [
       "<div>\n",
       "<style scoped>\n",
       "    .dataframe tbody tr th:only-of-type {\n",
       "        vertical-align: middle;\n",
       "    }\n",
       "\n",
       "    .dataframe tbody tr th {\n",
       "        vertical-align: top;\n",
       "    }\n",
       "\n",
       "    .dataframe thead th {\n",
       "        text-align: right;\n",
       "    }\n",
       "</style>\n",
       "<table border=\"1\" class=\"dataframe\">\n",
       "  <thead>\n",
       "    <tr style=\"text-align: right;\">\n",
       "      <th></th>\n",
       "      <th>0</th>\n",
       "      <th>1</th>\n",
       "      <th>2</th>\n",
       "      <th>3</th>\n",
       "      <th>4</th>\n",
       "      <th>5</th>\n",
       "      <th>6</th>\n",
       "      <th>s1</th>\n",
       "    </tr>\n",
       "  </thead>\n",
       "  <tbody>\n",
       "    <tr>\n",
       "      <th>0</th>\n",
       "      <td>0.684644</td>\n",
       "      <td>-0.305740</td>\n",
       "      <td>-0.048537</td>\n",
       "      <td>-0.484217</td>\n",
       "      <td>2.002091</td>\n",
       "      <td>0.085737</td>\n",
       "      <td>-0.015945</td>\n",
       "      <td>2.194313</td>\n",
       "    </tr>\n",
       "    <tr>\n",
       "      <th>1</th>\n",
       "      <td>5.105808</td>\n",
       "      <td>28.130779</td>\n",
       "      <td>0.259830</td>\n",
       "      <td>-5.870258</td>\n",
       "      <td>-2.550893</td>\n",
       "      <td>30.202362</td>\n",
       "      <td>-26.339824</td>\n",
       "      <td>49.642860</td>\n",
       "    </tr>\n",
       "    <tr>\n",
       "      <th>2</th>\n",
       "      <td>-0.010521</td>\n",
       "      <td>0.038406</td>\n",
       "      <td>1.342945</td>\n",
       "      <td>0.129570</td>\n",
       "      <td>1.187078</td>\n",
       "      <td>0.344576</td>\n",
       "      <td>0.206335</td>\n",
       "      <td>1.841829</td>\n",
       "    </tr>\n",
       "    <tr>\n",
       "      <th>3</th>\n",
       "      <td>0.063579</td>\n",
       "      <td>-0.109537</td>\n",
       "      <td>0.080623</td>\n",
       "      <td>0.042914</td>\n",
       "      <td>1.433037</td>\n",
       "      <td>0.273109</td>\n",
       "      <td>0.274334</td>\n",
       "      <td>1.492590</td>\n",
       "    </tr>\n",
       "    <tr>\n",
       "      <th>4</th>\n",
       "      <td>8.729668</td>\n",
       "      <td>-1.744492</td>\n",
       "      <td>-0.027706</td>\n",
       "      <td>2.845571</td>\n",
       "      <td>2.136196</td>\n",
       "      <td>-3.383826</td>\n",
       "      <td>-8.332536</td>\n",
       "      <td>13.145082</td>\n",
       "    </tr>\n",
       "    <tr>\n",
       "      <th>5</th>\n",
       "      <td>0.805239</td>\n",
       "      <td>-0.133742</td>\n",
       "      <td>-0.077978</td>\n",
       "      <td>0.425434</td>\n",
       "      <td>0.098874</td>\n",
       "      <td>-0.390849</td>\n",
       "      <td>-0.800924</td>\n",
       "      <td>1.287396</td>\n",
       "    </tr>\n",
       "    <tr>\n",
       "      <th>6</th>\n",
       "      <td>4.483019</td>\n",
       "      <td>-1.095530</td>\n",
       "      <td>-0.093428</td>\n",
       "      <td>1.584715</td>\n",
       "      <td>0.563327</td>\n",
       "      <td>-1.972069</td>\n",
       "      <td>-4.455874</td>\n",
       "      <td>6.919458</td>\n",
       "    </tr>\n",
       "    <tr>\n",
       "      <th>7</th>\n",
       "      <td>0.319477</td>\n",
       "      <td>0.266172</td>\n",
       "      <td>0.020700</td>\n",
       "      <td>-0.181414</td>\n",
       "      <td>0.164356</td>\n",
       "      <td>0.233460</td>\n",
       "      <td>-0.482089</td>\n",
       "      <td>0.721234</td>\n",
       "    </tr>\n",
       "    <tr>\n",
       "      <th>8</th>\n",
       "      <td>-0.053278</td>\n",
       "      <td>-0.127320</td>\n",
       "      <td>1.345386</td>\n",
       "      <td>0.031645</td>\n",
       "      <td>0.735590</td>\n",
       "      <td>0.145877</td>\n",
       "      <td>0.208988</td>\n",
       "      <td>1.560821</td>\n",
       "    </tr>\n",
       "    <tr>\n",
       "      <th>9</th>\n",
       "      <td>-0.049804</td>\n",
       "      <td>-0.118356</td>\n",
       "      <td>1.345419</td>\n",
       "      <td>0.019534</td>\n",
       "      <td>0.734584</td>\n",
       "      <td>0.155287</td>\n",
       "      <td>0.202226</td>\n",
       "      <td>1.559373</td>\n",
       "    </tr>\n",
       "  </tbody>\n",
       "</table>\n",
       "</div>"
      ],
      "text/plain": [
       "          0          1         2         3         4          5          6  \\\n",
       "0  0.684644  -0.305740 -0.048537 -0.484217  2.002091   0.085737  -0.015945   \n",
       "1  5.105808  28.130779  0.259830 -5.870258 -2.550893  30.202362 -26.339824   \n",
       "2 -0.010521   0.038406  1.342945  0.129570  1.187078   0.344576   0.206335   \n",
       "3  0.063579  -0.109537  0.080623  0.042914  1.433037   0.273109   0.274334   \n",
       "4  8.729668  -1.744492 -0.027706  2.845571  2.136196  -3.383826  -8.332536   \n",
       "5  0.805239  -0.133742 -0.077978  0.425434  0.098874  -0.390849  -0.800924   \n",
       "6  4.483019  -1.095530 -0.093428  1.584715  0.563327  -1.972069  -4.455874   \n",
       "7  0.319477   0.266172  0.020700 -0.181414  0.164356   0.233460  -0.482089   \n",
       "8 -0.053278  -0.127320  1.345386  0.031645  0.735590   0.145877   0.208988   \n",
       "9 -0.049804  -0.118356  1.345419  0.019534  0.734584   0.155287   0.202226   \n",
       "\n",
       "          s1  \n",
       "0   2.194313  \n",
       "1  49.642860  \n",
       "2   1.841829  \n",
       "3   1.492590  \n",
       "4  13.145082  \n",
       "5   1.287396  \n",
       "6   6.919458  \n",
       "7   0.721234  \n",
       "8   1.560821  \n",
       "9   1.559373  "
      ]
     },
     "execution_count": 19,
     "metadata": {},
     "output_type": "execute_result"
    }
   ],
   "source": [
    "normalised_pca_cdata.head(10)"
   ]
  },
  {
   "cell_type": "code",
   "execution_count": null,
   "metadata": {},
   "outputs": [],
   "source": [
    "# plot s1 "
   ]
  },
  {
   "cell_type": "code",
   "execution_count": 20,
   "metadata": {},
   "outputs": [
    {
     "data": {
      "text/plain": [
       "<matplotlib.axes._subplots.AxesSubplot at 0x1a24700780>"
      ]
     },
     "execution_count": 20,
     "metadata": {},
     "output_type": "execute_result"
    },
    {
     "data": {
      "image/png": "[encoded data removed]",
      "text/plain": [
       "<Figure size 936x432 with 1 Axes>"
      ]
     },
     "metadata": {
      "needs_background": "light"
     },
     "output_type": "display_data"
    }
   ],
   "source": [
    "plt.figure(figsize=(13, 6))\n",
    "sns.boxplot(x='s1', data=normalised_pca_cdata)"
   ]
  },
  {
   "cell_type": "code",
   "execution_count": 30,
   "metadata": {},
   "outputs": [
    {
     "data": {
      "text/plain": [
       "<function matplotlib.pyplot.show(*args, **kw)>"
      ]
     },
     "execution_count": 30,
     "metadata": {},
     "output_type": "execute_result"
    },
    {
     "data": {
      "image/png": "[encoded data removed]",
      "text/plain": [
       "<Figure size 936x432 with 1 Axes>"
      ]
     },
     "metadata": {
      "needs_background": "light"
     },
     "output_type": "display_data"
    }
   ],
   "source": [
    "plt.figure(figsize=(13, 6))\n",
    "xhigh=1000\n",
    "plt.xlim(0,xhigh)\n",
    "temp = normalised_pca_cdata[normalised_pca_cdata[\"s1\"]<xhigh]\n",
    "ax = sns.distplot(temp['s1'],bins=100, kde=False)\n",
    "ax.set_yscale('log')\n",
    "plt.show"
   ]
  },
  {
   "cell_type": "code",
   "execution_count": null,
   "metadata": {},
   "outputs": [],
   "source": [
    "# Autoencode"
   ]
  },
  {
   "cell_type": "code",
   "execution_count": 33,
   "metadata": {},
   "outputs": [],
   "source": [
    "# prepare training data & testing data\n",
    "# select the data with lower than 25 s1 score to as a normal dataset \n",
    "small_s1 = normalised_pca_cdata[normalised_pca_cdata[\"s1\"]<=1]\n"
   ]
  },
  {
   "cell_type": "code",
   "execution_count": 34,
   "metadata": {},
   "outputs": [
    {
     "data": {
      "text/plain": [
       "(1048543, 8)"
      ]
     },
     "execution_count": 34,
     "metadata": {},
     "output_type": "execute_result"
    }
   ],
   "source": [
    "small_s1.shape"
   ]
  },
  {
   "cell_type": "code",
   "execution_count": 35,
   "metadata": {},
   "outputs": [],
   "source": [
    "del small_s1[\"s1\"]"
   ]
  },
  {
   "cell_type": "code",
   "execution_count": 37,
   "metadata": {},
   "outputs": [],
   "source": [
    "X_train, X_test = train_test_split(small_s1, test_size=0.2, random_state=37)"
   ]
  },
  {
   "cell_type": "code",
   "execution_count": 38,
   "metadata": {},
   "outputs": [],
   "source": [
    "# build the encoder, with 2 layer, tried different activation functions\n",
    "data_in = Input(shape=(X_train.shape[1],))\n",
    "\n",
    "encoded = Dense(3,activation='tanh')(data_in)\n",
    "\n",
    "decoded = Dense(7,activation='softmax')(encoded)\n",
    "\n",
    "autoencoder = Model(inputs=data_in,outputs=decoded)\n",
    "\n",
    "autoencoder.compile(optimizer='adam',loss='mean_squared_error', \n",
    "                    metrics=['accuracy'])"
   ]
  },
  {
   "cell_type": "code",
   "execution_count": 39,
   "metadata": {},
   "outputs": [
    {
     "name": "stdout",
     "output_type": "stream",
     "text": [
      "Train on 838834 samples, validate on 209709 samples\n",
      "Epoch 1/8\n",
      "838834/838834 [==============================] - 21s 25us/step - loss: 0.0247 - acc: 0.7125 - val_loss: 0.0244 - val_acc: 0.7397\n",
      "Epoch 2/8\n",
      "838834/838834 [==============================] - 19s 22us/step - loss: 0.0244 - acc: 0.7416 - val_loss: 0.0243 - val_acc: 0.7419\n",
      "Epoch 3/8\n",
      "838834/838834 [==============================] - 20s 24us/step - loss: 0.0243 - acc: 0.7461 - val_loss: 0.0243 - val_acc: 0.7445\n",
      "Epoch 4/8\n",
      "838834/838834 [==============================] - 20s 24us/step - loss: 0.0243 - acc: 0.7472 - val_loss: 0.0243 - val_acc: 0.7454\n",
      "Epoch 5/8\n",
      "838834/838834 [==============================] - 20s 24us/step - loss: 0.0243 - acc: 0.7476 - val_loss: 0.0243 - val_acc: 0.7503\n",
      "Epoch 6/8\n",
      "838834/838834 [==============================] - 23s 27us/step - loss: 0.0243 - acc: 0.7478 - val_loss: 0.0243 - val_acc: 0.7482\n",
      "Epoch 7/8\n",
      "838834/838834 [==============================] - 20s 23us/step - loss: 0.0243 - acc: 0.7478 - val_loss: 0.0243 - val_acc: 0.7499\n",
      "Epoch 8/8\n",
      "838834/838834 [==============================] - 20s 24us/step - loss: 0.0243 - acc: 0.7478 - val_loss: 0.0243 - val_acc: 0.7521\n"
     ]
    },
    {
     "data": {
      "text/plain": [
       "<keras.callbacks.History at 0x1a284ca5f8>"
      ]
     },
     "execution_count": 39,
     "metadata": {},
     "output_type": "execute_result"
    }
   ],
   "source": [
    "# train encoder, use a small epochs, did not achieved high accuracy \n",
    "autoencoder.fit(X_train, X_train, epochs = 8, batch_size=64,\n",
    "                validation_data=(X_test,X_test))"
   ]
  },
  {
   "cell_type": "code",
   "execution_count": 40,
   "metadata": {},
   "outputs": [],
   "source": [
    "# use the encoder to reconstruct the orginal dataset \n",
    "pca_result = normalised_pca_cdata.drop([\"s1\"],axis=1)\n",
    "X_test2 = pca_result.values\n",
    "pred = autoencoder.predict(X_test2) # the prediction result is a list \n",
    "\n",
    "# compare the predicted result with orginal data, and calculate the distance  \n",
    "import math\n",
    "s2_list=[]\n",
    "for i in range(len(pred)):\n",
    "    s2 = 0\n",
    "    for j in range(len(pred[i])):\n",
    "        s2 = (X_test2[i][j]-pred[i][j])**2+s2\n",
    "    math.sqrt(s2)\n",
    "    s2_list.append(s2)\n",
    "    \n",
    "normalised_pca_cdata[\"s2\"] = s2_list"
   ]
  },
  {
   "cell_type": "code",
   "execution_count": 41,
   "metadata": {},
   "outputs": [
    {
     "data": {
      "text/html": [
       "<div>\n",
       "<style scoped>\n",
       "    .dataframe tbody tr th:only-of-type {\n",
       "        vertical-align: middle;\n",
       "    }\n",
       "\n",
       "    .dataframe tbody tr th {\n",
       "        vertical-align: top;\n",
       "    }\n",
       "\n",
       "    .dataframe thead th {\n",
       "        text-align: right;\n",
       "    }\n",
       "</style>\n",
       "<table border=\"1\" class=\"dataframe\">\n",
       "  <thead>\n",
       "    <tr style=\"text-align: right;\">\n",
       "      <th></th>\n",
       "      <th>0</th>\n",
       "      <th>1</th>\n",
       "      <th>2</th>\n",
       "      <th>3</th>\n",
       "      <th>4</th>\n",
       "      <th>5</th>\n",
       "      <th>6</th>\n",
       "      <th>s1</th>\n",
       "      <th>s2</th>\n",
       "    </tr>\n",
       "  </thead>\n",
       "  <tbody>\n",
       "    <tr>\n",
       "      <th>0</th>\n",
       "      <td>0.684644</td>\n",
       "      <td>-0.305740</td>\n",
       "      <td>-0.048537</td>\n",
       "      <td>-0.484217</td>\n",
       "      <td>2.002091</td>\n",
       "      <td>0.085737</td>\n",
       "      <td>-0.015945</td>\n",
       "      <td>2.194313</td>\n",
       "      <td>1.989176</td>\n",
       "    </tr>\n",
       "    <tr>\n",
       "      <th>1</th>\n",
       "      <td>5.105808</td>\n",
       "      <td>28.130779</td>\n",
       "      <td>0.259830</td>\n",
       "      <td>-5.870258</td>\n",
       "      <td>-2.550893</td>\n",
       "      <td>30.202362</td>\n",
       "      <td>-26.339824</td>\n",
       "      <td>49.642860</td>\n",
       "      <td>2410.298662</td>\n",
       "    </tr>\n",
       "    <tr>\n",
       "      <th>2</th>\n",
       "      <td>-0.010521</td>\n",
       "      <td>0.038406</td>\n",
       "      <td>1.342945</td>\n",
       "      <td>0.129570</td>\n",
       "      <td>1.187078</td>\n",
       "      <td>0.344576</td>\n",
       "      <td>0.206335</td>\n",
       "      <td>1.841829</td>\n",
       "      <td>1.450436</td>\n",
       "    </tr>\n",
       "    <tr>\n",
       "      <th>3</th>\n",
       "      <td>0.063579</td>\n",
       "      <td>-0.109537</td>\n",
       "      <td>0.080623</td>\n",
       "      <td>0.042914</td>\n",
       "      <td>1.433037</td>\n",
       "      <td>0.273109</td>\n",
       "      <td>0.274334</td>\n",
       "      <td>1.492590</td>\n",
       "      <td>0.429846</td>\n",
       "    </tr>\n",
       "    <tr>\n",
       "      <th>4</th>\n",
       "      <td>8.729668</td>\n",
       "      <td>-1.744492</td>\n",
       "      <td>-0.027706</td>\n",
       "      <td>2.845571</td>\n",
       "      <td>2.136196</td>\n",
       "      <td>-3.383826</td>\n",
       "      <td>-8.332536</td>\n",
       "      <td>13.145082</td>\n",
       "      <td>161.511839</td>\n",
       "    </tr>\n",
       "  </tbody>\n",
       "</table>\n",
       "</div>"
      ],
      "text/plain": [
       "          0          1         2         3         4          5          6  \\\n",
       "0  0.684644  -0.305740 -0.048537 -0.484217  2.002091   0.085737  -0.015945   \n",
       "1  5.105808  28.130779  0.259830 -5.870258 -2.550893  30.202362 -26.339824   \n",
       "2 -0.010521   0.038406  1.342945  0.129570  1.187078   0.344576   0.206335   \n",
       "3  0.063579  -0.109537  0.080623  0.042914  1.433037   0.273109   0.274334   \n",
       "4  8.729668  -1.744492 -0.027706  2.845571  2.136196  -3.383826  -8.332536   \n",
       "\n",
       "          s1           s2  \n",
       "0   2.194313     1.989176  \n",
       "1  49.642860  2410.298662  \n",
       "2   1.841829     1.450436  \n",
       "3   1.492590     0.429846  \n",
       "4  13.145082   161.511839  "
      ]
     },
     "execution_count": 41,
     "metadata": {},
     "output_type": "execute_result"
    }
   ],
   "source": [
    "normalised_pca_cdata.head()"
   ]
  },
  {
   "cell_type": "code",
   "execution_count": null,
   "metadata": {},
   "outputs": [],
   "source": []
  }
 ],
 "metadata": {
  "kernelspec": {
   "display_name": "Python 3",
   "language": "python",
   "name": "python3"
  },
  "language_info": {
   "codemirror_mode": {
    "name": "ipython",
    "version": 3
   },
   "file_extension": ".py",
   "mimetype": "text/x-python",
   "name": "python",
   "nbconvert_exporter": "python",
   "pygments_lexer": "ipython3",
   "version": "3.7.3"
  }
 },
 "nbformat": 4,
 "nbformat_minor": 2
}
