{
 "cells": [
  {
   "cell_type": "code",
   "execution_count": 1,
   "metadata": {},
   "outputs": [],
   "source": [
    "import pandas as pd\n",
    "import numpy as np"
   ]
  },
  {
   "cell_type": "code",
   "execution_count": 2,
   "metadata": {},
   "outputs": [],
   "source": [
    "df = pd.read_csv('/Users/nianzhe/Desktop/DSO562 Fraud Analytics/HW1/NY property data.csv')"
   ]
  },
  {
   "cell_type": "code",
   "execution_count": 3,
   "metadata": {},
   "outputs": [
    {
     "name": "stdout",
     "output_type": "stream",
     "text": [
      "<class 'pandas.core.frame.DataFrame'>\n",
      "RangeIndex: 1070994 entries, 0 to 1070993\n",
      "Data columns (total 32 columns):\n",
      "RECORD      1070994 non-null int64\n",
      "BBLE        1070994 non-null object\n",
      "B           1070994 non-null int64\n",
      "BLOCK       1070994 non-null int64\n",
      "LOT         1070994 non-null int64\n",
      "EASEMENT    4636 non-null object\n",
      "OWNER       1039249 non-null object\n",
      "BLDGCL      1070994 non-null object\n",
      "TAXCLASS    1070994 non-null object\n",
      "LTFRONT     1070994 non-null int64\n",
      "LTDEPTH     1070994 non-null int64\n",
      "EXT         354305 non-null object\n",
      "STORIES     1014730 non-null float64\n",
      "FULLVAL     1070994 non-null float64\n",
      "AVLAND      1070994 non-null float64\n",
      "AVTOT       1070994 non-null float64\n",
      "EXLAND      1070994 non-null float64\n",
      "EXTOT       1070994 non-null float64\n",
      "EXCD1       638488 non-null float64\n",
      "STADDR      1070318 non-null object\n",
      "ZIP         1041104 non-null float64\n",
      "EXMPTCL     15579 non-null object\n",
      "BLDFRONT    1070994 non-null int64\n",
      "BLDDEPTH    1070994 non-null int64\n",
      "AVLAND2     282726 non-null float64\n",
      "AVTOT2      282732 non-null float64\n",
      "EXLAND2     87449 non-null float64\n",
      "EXTOT2      130828 non-null float64\n",
      "EXCD2       92948 non-null float64\n",
      "PERIOD      1070994 non-null object\n",
      "YEAR        1070994 non-null object\n",
      "VALTYPE     1070994 non-null object\n",
      "dtypes: float64(13), int64(8), object(11)\n",
      "memory usage: 261.5+ MB\n"
     ]
    }
   ],
   "source": [
    "df.info()"
   ]
  },
  {
   "cell_type": "code",
   "execution_count": 4,
   "metadata": {},
   "outputs": [
    {
     "data": {
      "text/plain": [
       "Index(['RECORD', 'BBLE', 'B', 'BLOCK', 'LOT', 'EASEMENT', 'OWNER', 'BLDGCL',\n",
       "       'TAXCLASS', 'LTFRONT', 'LTDEPTH', 'EXT', 'STORIES', 'FULLVAL', 'AVLAND',\n",
       "       'AVTOT', 'EXLAND', 'EXTOT', 'EXCD1', 'STADDR', 'ZIP', 'EXMPTCL',\n",
       "       'BLDFRONT', 'BLDDEPTH', 'AVLAND2', 'AVTOT2', 'EXLAND2', 'EXTOT2',\n",
       "       'EXCD2', 'PERIOD', 'YEAR', 'VALTYPE'],\n",
       "      dtype='object')"
      ]
     },
     "execution_count": 4,
     "metadata": {},
     "output_type": "execute_result"
    }
   ],
   "source": [
    "df.columns"
   ]
  },
  {
   "cell_type": "markdown",
   "metadata": {},
   "source": [
    "### 1 Fill ZIP Code"
   ]
  },
  {
   "cell_type": "code",
   "execution_count": 5,
   "metadata": {},
   "outputs": [],
   "source": [
    "df['BLOCK-LOT'] = df['BLOCK'].astype(str) +'-' +df['LOT'].astype(str)"
   ]
  },
  {
   "cell_type": "code",
   "execution_count": 6,
   "metadata": {},
   "outputs": [],
   "source": [
    "df['ZIP'] = df['ZIP'].astype(str)"
   ]
  },
  {
   "cell_type": "code",
   "execution_count": 7,
   "metadata": {},
   "outputs": [],
   "source": [
    "fill1 = df.groupby(['BLOCK'])['ZIP'].apply(pd.Series.mode)\n",
    "fill1 = fill1.to_frame()\n",
    "fill1 = fill1.reset_index().groupby('BLOCK').agg({'ZIP':'first'})"
   ]
  },
  {
   "cell_type": "code",
   "execution_count": 8,
   "metadata": {},
   "outputs": [],
   "source": [
    "fill2 = df.groupby(['B'])['ZIP'].apply(pd.Series.mode)\n",
    "fill2 = fill2.to_frame()\n",
    "fill2 = fill2.reset_index().groupby('B').agg({'ZIP':'first'})"
   ]
  },
  {
   "cell_type": "code",
   "execution_count": 9,
   "metadata": {},
   "outputs": [],
   "source": [
    "df = df.set_index('BLOCK')"
   ]
  },
  {
   "cell_type": "code",
   "execution_count": 10,
   "metadata": {},
   "outputs": [],
   "source": [
    "df['ZIP'] = df['ZIP'].fillna(fill1['ZIP'])"
   ]
  },
  {
   "cell_type": "code",
   "execution_count": 11,
   "metadata": {},
   "outputs": [],
   "source": [
    "df['ZIP'] = df['ZIP'].replace('nan', np.nan)"
   ]
  },
  {
   "cell_type": "code",
   "execution_count": 12,
   "metadata": {},
   "outputs": [
    {
     "data": {
      "text/plain": [
       "1041104"
      ]
     },
     "execution_count": 12,
     "metadata": {},
     "output_type": "execute_result"
    }
   ],
   "source": [
    "df['ZIP'].count()"
   ]
  },
  {
   "cell_type": "code",
   "execution_count": 13,
   "metadata": {},
   "outputs": [],
   "source": [
    "df = df.reset_index()"
   ]
  },
  {
   "cell_type": "code",
   "execution_count": 14,
   "metadata": {},
   "outputs": [],
   "source": [
    "df = df.set_index('B')"
   ]
  },
  {
   "cell_type": "code",
   "execution_count": 15,
   "metadata": {},
   "outputs": [],
   "source": [
    "df['ZIP'] = df['ZIP'].fillna(fill2['ZIP'])\n",
    "df['ZIP'] = df['ZIP'].replace('nan', np.nan)"
   ]
  },
  {
   "cell_type": "code",
   "execution_count": 16,
   "metadata": {},
   "outputs": [
    {
     "data": {
      "text/plain": [
       "1070994"
      ]
     },
     "execution_count": 16,
     "metadata": {},
     "output_type": "execute_result"
    }
   ],
   "source": [
    "df['ZIP'].count()"
   ]
  },
  {
   "cell_type": "code",
   "execution_count": 17,
   "metadata": {},
   "outputs": [],
   "source": [
    "df = df.reset_index()"
   ]
  },
  {
   "cell_type": "code",
   "execution_count": 18,
   "metadata": {},
   "outputs": [
    {
     "name": "stdout",
     "output_type": "stream",
     "text": [
      "<class 'pandas.core.frame.DataFrame'>\n",
      "RangeIndex: 1070994 entries, 0 to 1070993\n",
      "Data columns (total 33 columns):\n",
      "B            1070994 non-null int64\n",
      "BLOCK        1070994 non-null int64\n",
      "RECORD       1070994 non-null int64\n",
      "BBLE         1070994 non-null object\n",
      "LOT          1070994 non-null int64\n",
      "EASEMENT     4636 non-null object\n",
      "OWNER        1039249 non-null object\n",
      "BLDGCL       1070994 non-null object\n",
      "TAXCLASS     1070994 non-null object\n",
      "LTFRONT      1070994 non-null int64\n",
      "LTDEPTH      1070994 non-null int64\n",
      "EXT          354305 non-null object\n",
      "STORIES      1014730 non-null float64\n",
      "FULLVAL      1070994 non-null float64\n",
      "AVLAND       1070994 non-null float64\n",
      "AVTOT        1070994 non-null float64\n",
      "EXLAND       1070994 non-null float64\n",
      "EXTOT        1070994 non-null float64\n",
      "EXCD1        638488 non-null float64\n",
      "STADDR       1070318 non-null object\n",
      "ZIP          1070994 non-null object\n",
      "EXMPTCL      15579 non-null object\n",
      "BLDFRONT     1070994 non-null int64\n",
      "BLDDEPTH     1070994 non-null int64\n",
      "AVLAND2      282726 non-null float64\n",
      "AVTOT2       282732 non-null float64\n",
      "EXLAND2      87449 non-null float64\n",
      "EXTOT2       130828 non-null float64\n",
      "EXCD2        92948 non-null float64\n",
      "PERIOD       1070994 non-null object\n",
      "YEAR         1070994 non-null object\n",
      "VALTYPE      1070994 non-null object\n",
      "BLOCK-LOT    1070994 non-null object\n",
      "dtypes: float64(12), int64(8), object(13)\n",
      "memory usage: 269.6+ MB\n"
     ]
    }
   ],
   "source": [
    "df.info()"
   ]
  },
  {
   "cell_type": "markdown",
   "metadata": {},
   "source": [
    "### 2 Fill FULLVAL', 'AVLAND', 'AVTOT'"
   ]
  },
  {
   "cell_type": "code",
   "execution_count": 19,
   "metadata": {
    "scrolled": true
   },
   "outputs": [],
   "source": [
    "for i in ['FULLVAL', 'AVLAND', 'AVTOT','LTFRONT', 'LTDEPTH', 'BLDFRONT', 'BLDDEPTH', 'STORIES' ]:\n",
    "    df[i] = df[i].replace(0, np.nan)"
   ]
  },
  {
   "cell_type": "code",
   "execution_count": 20,
   "metadata": {},
   "outputs": [
    {
     "name": "stdout",
     "output_type": "stream",
     "text": [
      "<class 'pandas.core.frame.DataFrame'>\n",
      "RangeIndex: 1070994 entries, 0 to 1070993\n",
      "Data columns (total 33 columns):\n",
      "B            1070994 non-null int64\n",
      "BLOCK        1070994 non-null int64\n",
      "RECORD       1070994 non-null int64\n",
      "BBLE         1070994 non-null object\n",
      "LOT          1070994 non-null int64\n",
      "EASEMENT     4636 non-null object\n",
      "OWNER        1039249 non-null object\n",
      "BLDGCL       1070994 non-null object\n",
      "TAXCLASS     1070994 non-null object\n",
      "LTFRONT      901886 non-null float64\n",
      "LTDEPTH      900866 non-null float64\n",
      "EXT          354305 non-null object\n",
      "STORIES      1014730 non-null float64\n",
      "FULLVAL      1057987 non-null float64\n",
      "AVLAND       1057985 non-null float64\n",
      "AVTOT        1057987 non-null float64\n",
      "EXLAND       1070994 non-null float64\n",
      "EXTOT        1070994 non-null float64\n",
      "EXCD1        638488 non-null float64\n",
      "STADDR       1070318 non-null object\n",
      "ZIP          1070994 non-null object\n",
      "EXMPTCL      15579 non-null object\n",
      "BLDFRONT     842179 non-null float64\n",
      "BLDDEPTH     842141 non-null float64\n",
      "AVLAND2      282726 non-null float64\n",
      "AVTOT2       282732 non-null float64\n",
      "EXLAND2      87449 non-null float64\n",
      "EXTOT2       130828 non-null float64\n",
      "EXCD2        92948 non-null float64\n",
      "PERIOD       1070994 non-null object\n",
      "YEAR         1070994 non-null object\n",
      "VALTYPE      1070994 non-null object\n",
      "BLOCK-LOT    1070994 non-null object\n",
      "dtypes: float64(16), int64(4), object(13)\n",
      "memory usage: 269.6+ MB\n"
     ]
    }
   ],
   "source": [
    "df.info()"
   ]
  },
  {
   "cell_type": "code",
   "execution_count": 21,
   "metadata": {},
   "outputs": [],
   "source": [
    "df['ZIP-BLDGCL-TAXCLASS'] = df['ZIP'].astype(str) +'-' +df['BLDGCL'].astype(str) +'-' +df['TAXCLASS'].astype(str)"
   ]
  },
  {
   "cell_type": "code",
   "execution_count": 22,
   "metadata": {},
   "outputs": [],
   "source": [
    "fill3 = df.groupby(['ZIP-BLDGCL-TAXCLASS']).agg({'FULLVAL':'median', 'AVLAND':'median', 'AVTOT':'median','LTFRONT':'median', 'LTDEPTH':'median', 'BLDFRONT':'median', 'BLDDEPTH':'median', 'STORIES':'median'})"
   ]
  },
  {
   "cell_type": "code",
   "execution_count": 23,
   "metadata": {},
   "outputs": [],
   "source": [
    "df = df.set_index('ZIP-BLDGCL-TAXCLASS')"
   ]
  },
  {
   "cell_type": "code",
   "execution_count": 24,
   "metadata": {},
   "outputs": [],
   "source": [
    "for i in ['FULLVAL', 'AVLAND', 'AVTOT','LTFRONT', 'LTDEPTH', 'BLDFRONT', 'BLDDEPTH', 'STORIES' ]:\n",
    "    df[i] = df[i].fillna(fill3[i])\n",
    "# df['AVLAND'] = df['AVLAND'].fillna(fill3['AVLAND'])\n",
    "#df['AVTOT'] = df['AVTOT'].fillna(fill3['AVTOT'])"
   ]
  },
  {
   "cell_type": "code",
   "execution_count": 25,
   "metadata": {},
   "outputs": [],
   "source": [
    "# df = df.fillna(fill3)"
   ]
  },
  {
   "cell_type": "code",
   "execution_count": 26,
   "metadata": {
    "scrolled": true
   },
   "outputs": [
    {
     "name": "stdout",
     "output_type": "stream",
     "text": [
      "<class 'pandas.core.frame.DataFrame'>\n",
      "Index: 1070994 entries, 10004.0-P7-4 to 10307.0-A1-1\n",
      "Data columns (total 33 columns):\n",
      "B            1070994 non-null int64\n",
      "BLOCK        1070994 non-null int64\n",
      "RECORD       1070994 non-null int64\n",
      "BBLE         1070994 non-null object\n",
      "LOT          1070994 non-null int64\n",
      "EASEMENT     4636 non-null object\n",
      "OWNER        1039249 non-null object\n",
      "BLDGCL       1070994 non-null object\n",
      "TAXCLASS     1070994 non-null object\n",
      "LTFRONT      1055266 non-null float64\n",
      "LTDEPTH      1053526 non-null float64\n",
      "EXT          354305 non-null object\n",
      "STORIES      1031254 non-null float64\n",
      "FULLVAL      1061816 non-null float64\n",
      "AVLAND       1061816 non-null float64\n",
      "AVTOT        1061816 non-null float64\n",
      "EXLAND       1070994 non-null float64\n",
      "EXTOT        1070994 non-null float64\n",
      "EXCD1        638488 non-null float64\n",
      "STADDR       1070318 non-null object\n",
      "ZIP          1070994 non-null object\n",
      "EXMPTCL      15579 non-null object\n",
      "BLDFRONT     998339 non-null float64\n",
      "BLDDEPTH     1000305 non-null float64\n",
      "AVLAND2      282726 non-null float64\n",
      "AVTOT2       282732 non-null float64\n",
      "EXLAND2      87449 non-null float64\n",
      "EXTOT2       130828 non-null float64\n",
      "EXCD2        92948 non-null float64\n",
      "PERIOD       1070994 non-null object\n",
      "YEAR         1070994 non-null object\n",
      "VALTYPE      1070994 non-null object\n",
      "BLOCK-LOT    1070994 non-null object\n",
      "dtypes: float64(16), int64(4), object(13)\n",
      "memory usage: 277.8+ MB\n"
     ]
    }
   ],
   "source": [
    "df.info()"
   ]
  },
  {
   "cell_type": "code",
   "execution_count": 27,
   "metadata": {},
   "outputs": [],
   "source": [
    "df['BLDGCL-TAXCLASS'] = df['BLDGCL'].astype(str) +'-' +df['TAXCLASS'].astype(str)"
   ]
  },
  {
   "cell_type": "code",
   "execution_count": 28,
   "metadata": {},
   "outputs": [],
   "source": [
    "fill4 = df.groupby(['BLDGCL-TAXCLASS']).agg({'FULLVAL':'median', 'AVLAND':'median', 'AVTOT':'median','LTFRONT':'median', 'LTDEPTH':'median', 'BLDFRONT':'median', 'BLDDEPTH':'median', 'STORIES':'median'})"
   ]
  },
  {
   "cell_type": "code",
   "execution_count": 29,
   "metadata": {},
   "outputs": [],
   "source": [
    "df = df.set_index('BLDGCL-TAXCLASS')"
   ]
  },
  {
   "cell_type": "code",
   "execution_count": 30,
   "metadata": {},
   "outputs": [],
   "source": [
    "for i in ['FULLVAL', 'AVLAND', 'AVTOT','LTFRONT', 'LTDEPTH', 'BLDFRONT', 'BLDDEPTH', 'STORIES' ]:\n",
    "    df[i] = df[i].fillna(fill4[i])"
   ]
  },
  {
   "cell_type": "code",
   "execution_count": 31,
   "metadata": {},
   "outputs": [],
   "source": [
    "# df['FULLVAL'] = df['FULLVAL'].fillna(fill4['FULLVAL'])\n",
    "# df['AVLAND'] = df['AVLAND'].fillna(fill4['AVLAND'])\n",
    "#df['AVTOT'] = df['AVTOT'].fillna(fill4['AVTOT'])"
   ]
  },
  {
   "cell_type": "code",
   "execution_count": 32,
   "metadata": {
    "scrolled": true
   },
   "outputs": [
    {
     "name": "stdout",
     "output_type": "stream",
     "text": [
      "<class 'pandas.core.frame.DataFrame'>\n",
      "Index: 1070994 entries, P7-4 to A1-1\n",
      "Data columns (total 33 columns):\n",
      "B            1070994 non-null int64\n",
      "BLOCK        1070994 non-null int64\n",
      "RECORD       1070994 non-null int64\n",
      "BBLE         1070994 non-null object\n",
      "LOT          1070994 non-null int64\n",
      "EASEMENT     4636 non-null object\n",
      "OWNER        1039249 non-null object\n",
      "BLDGCL       1070994 non-null object\n",
      "TAXCLASS     1070994 non-null object\n",
      "LTFRONT      1070992 non-null float64\n",
      "LTDEPTH      1070992 non-null float64\n",
      "EXT          354305 non-null object\n",
      "STORIES      1066713 non-null float64\n",
      "FULLVAL      1064388 non-null float64\n",
      "AVLAND       1064388 non-null float64\n",
      "AVTOT        1064388 non-null float64\n",
      "EXLAND       1070994 non-null float64\n",
      "EXTOT        1070994 non-null float64\n",
      "EXCD1        638488 non-null float64\n",
      "STADDR       1070318 non-null object\n",
      "ZIP          1070994 non-null object\n",
      "EXMPTCL      15579 non-null object\n",
      "BLDFRONT     1066712 non-null float64\n",
      "BLDDEPTH     1067711 non-null float64\n",
      "AVLAND2      282726 non-null float64\n",
      "AVTOT2       282732 non-null float64\n",
      "EXLAND2      87449 non-null float64\n",
      "EXTOT2       130828 non-null float64\n",
      "EXCD2        92948 non-null float64\n",
      "PERIOD       1070994 non-null object\n",
      "YEAR         1070994 non-null object\n",
      "VALTYPE      1070994 non-null object\n",
      "BLOCK-LOT    1070994 non-null object\n",
      "dtypes: float64(16), int64(4), object(13)\n",
      "memory usage: 277.8+ MB\n"
     ]
    }
   ],
   "source": [
    "df.info()"
   ]
  },
  {
   "cell_type": "code",
   "execution_count": 33,
   "metadata": {},
   "outputs": [],
   "source": [
    "fill5 = df.groupby(['TAXCLASS']).agg({'FULLVAL':'median', 'AVLAND':'median', 'AVTOT':'median','LTFRONT':'median', 'LTDEPTH':'median', 'BLDFRONT':'median', 'BLDDEPTH':'median', 'STORIES':'median'})"
   ]
  },
  {
   "cell_type": "code",
   "execution_count": 34,
   "metadata": {},
   "outputs": [],
   "source": [
    "df = df.set_index('TAXCLASS')"
   ]
  },
  {
   "cell_type": "code",
   "execution_count": 35,
   "metadata": {},
   "outputs": [],
   "source": [
    "for i in ['FULLVAL', 'AVLAND', 'AVTOT','LTFRONT', 'LTDEPTH', 'BLDFRONT', 'BLDDEPTH', 'STORIES' ]:\n",
    "    df[i] = df[i].fillna(fill5[i])"
   ]
  },
  {
   "cell_type": "code",
   "execution_count": 36,
   "metadata": {},
   "outputs": [],
   "source": [
    "# df['FULLVAL'] = df['FULLVAL'].fillna(fill5['FULLVAL'])\n",
    "# df['AVLAND'] = df['AVLAND'].fillna(fill5['AVLAND'])\n",
    "#df['AVTOT'] = df['AVTOT'].fillna(fill5['AVTOT'])"
   ]
  },
  {
   "cell_type": "code",
   "execution_count": 37,
   "metadata": {
    "scrolled": true
   },
   "outputs": [
    {
     "name": "stdout",
     "output_type": "stream",
     "text": [
      "<class 'pandas.core.frame.DataFrame'>\n",
      "Index: 1070994 entries, 4 to 1\n",
      "Data columns (total 32 columns):\n",
      "B            1070994 non-null int64\n",
      "BLOCK        1070994 non-null int64\n",
      "RECORD       1070994 non-null int64\n",
      "BBLE         1070994 non-null object\n",
      "LOT          1070994 non-null int64\n",
      "EASEMENT     4636 non-null object\n",
      "OWNER        1039249 non-null object\n",
      "BLDGCL       1070994 non-null object\n",
      "LTFRONT      1070994 non-null float64\n",
      "LTDEPTH      1070994 non-null float64\n",
      "EXT          354305 non-null object\n",
      "STORIES      1070994 non-null float64\n",
      "FULLVAL      1070994 non-null float64\n",
      "AVLAND       1070994 non-null float64\n",
      "AVTOT        1070994 non-null float64\n",
      "EXLAND       1070994 non-null float64\n",
      "EXTOT        1070994 non-null float64\n",
      "EXCD1        638488 non-null float64\n",
      "STADDR       1070318 non-null object\n",
      "ZIP          1070994 non-null object\n",
      "EXMPTCL      15579 non-null object\n",
      "BLDFRONT     1070994 non-null float64\n",
      "BLDDEPTH     1070994 non-null float64\n",
      "AVLAND2      282726 non-null float64\n",
      "AVTOT2       282732 non-null float64\n",
      "EXLAND2      87449 non-null float64\n",
      "EXTOT2       130828 non-null float64\n",
      "EXCD2        92948 non-null float64\n",
      "PERIOD       1070994 non-null object\n",
      "YEAR         1070994 non-null object\n",
      "VALTYPE      1070994 non-null object\n",
      "BLOCK-LOT    1070994 non-null object\n",
      "dtypes: float64(16), int64(4), object(12)\n",
      "memory usage: 269.6+ MB\n"
     ]
    }
   ],
   "source": [
    "df.info()"
   ]
  },
  {
   "cell_type": "code",
   "execution_count": 39,
   "metadata": {},
   "outputs": [
    {
     "data": {
      "text/plain": [
       "ZIP         1070994\n",
       "FULLVAL     1070994\n",
       "AVLAND      1070994\n",
       "AVTOT       1070994\n",
       "LTFRONT     1070994\n",
       "LTDEPTH     1070994\n",
       "BLDFRONT    1070994\n",
       "BLDDEPTH    1070994\n",
       "STORIES     1070994\n",
       "dtype: int64"
      ]
     },
     "execution_count": 39,
     "metadata": {},
     "output_type": "execute_result"
    }
   ],
   "source": [
    "df[['ZIP','FULLVAL', 'AVLAND', 'AVTOT','LTFRONT', 'LTDEPTH', 'BLDFRONT', 'BLDDEPTH', 'STORIES' ]].count()"
   ]
  },
  {
   "cell_type": "code",
   "execution_count": 41,
   "metadata": {},
   "outputs": [
    {
     "data": {
      "text/plain": [
       "0"
      ]
     },
     "execution_count": 41,
     "metadata": {},
     "output_type": "execute_result"
    }
   ],
   "source": [
    "sum(df['BLDDEPTH'] == 'nan')"
   ]
  },
  {
   "cell_type": "code",
   "execution_count": 42,
   "metadata": {},
   "outputs": [],
   "source": [
    "df.to_csv('NY_No_Missing.csv')"
   ]
  },
  {
   "cell_type": "code",
   "execution_count": null,
   "metadata": {},
   "outputs": [],
   "source": []
  }
 ],
 "metadata": {
  "kernelspec": {
   "display_name": "Python 3",
   "language": "python",
   "name": "python3"
  },
  "language_info": {
   "codemirror_mode": {
    "name": "ipython",
    "version": 3
   },
   "file_extension": ".py",
   "mimetype": "text/x-python",
   "name": "python",
   "nbconvert_exporter": "python",
   "pygments_lexer": "ipython3",
   "version": "3.6.9"
  }
 },
 "nbformat": 4,
 "nbformat_minor": 2
}
